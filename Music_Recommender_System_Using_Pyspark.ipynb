{
  "nbformat": 4,
  "nbformat_minor": 0,
  "metadata": {
    "colab": {
      "provenance": []
    },
    "kernelspec": {
      "display_name": "Python 3",
      "name": "python3"
    }
  },
  "cells": [
    {
      "cell_type": "markdown",
      "metadata": {
        "id": "uixRc0XtrHuj"
      },
      "source": [
        "# **WELCOME TO THIS NOTEBOOK**"
      ]
    },
    {
      "cell_type": "markdown",
      "metadata": {
        "id": "hMZ64UxxrMvL"
      },
      "source": [
        "Let's install pyspark"
      ]
    },
    {
      "cell_type": "code",
      "source": [
        "from google.colab import drive\n",
        "drive.mount('/content/drive')"
      ],
      "metadata": {
        "id": "qGhdS62199Qu",
        "outputId": "19cf6653-b691-4e14-9e1f-0d05e5f50eae",
        "colab": {
          "base_uri": "https://localhost:8080/"
        }
      },
      "execution_count": 78,
      "outputs": [
        {
          "output_type": "stream",
          "name": "stdout",
          "text": [
            "Drive already mounted at /content/drive; to attempt to forcibly remount, call drive.mount(\"/content/drive\", force_remount=True).\n"
          ]
        }
      ]
    },
    {
      "cell_type": "code",
      "metadata": {
        "id": "Dal3Np2Imn8u",
        "outputId": "dd917e75-e4df-4fe7-d6c1-d709bf9be04b",
        "colab": {
          "base_uri": "https://localhost:8080/"
        }
      },
      "source": [
        "!pip install pyspark"
      ],
      "execution_count": 79,
      "outputs": [
        {
          "output_type": "stream",
          "name": "stdout",
          "text": [
            "Requirement already satisfied: pyspark in /usr/local/lib/python3.10/dist-packages (3.4.1)\n",
            "Requirement already satisfied: py4j==0.10.9.7 in /usr/local/lib/python3.10/dist-packages (from pyspark) (0.10.9.7)\n"
          ]
        }
      ]
    },
    {
      "cell_type": "markdown",
      "metadata": {
        "id": "eK9D-CNgru_s"
      },
      "source": [
        "Importing the modules"
      ]
    },
    {
      "cell_type": "code",
      "metadata": {
        "id": "Z_cmzia9nA1W"
      },
      "source": [
        "from pyspark.sql import SparkSession\n",
        "from pyspark.sql.functions import count, desc , col, max\n",
        "from pyspark.ml.feature import  StringIndexer\n",
        "from pyspark.ml import Pipeline\n",
        "from pyspark.ml.recommendation import ALS\n",
        "from pyspark.ml.tuning import TrainValidationSplit, ParamGridBuilder"
      ],
      "execution_count": 80,
      "outputs": []
    },
    {
      "cell_type": "markdown",
      "metadata": {
        "id": "pjM5P6b0rVpH"
      },
      "source": [
        "Creating the spark session\n"
      ]
    },
    {
      "cell_type": "code",
      "metadata": {
        "id": "gvSzI0zMn4Hk"
      },
      "source": [
        "spark = SparkSession.builder.appName(\"lastfm\").getOrCreate()"
      ],
      "execution_count": 81,
      "outputs": []
    },
    {
      "cell_type": "markdown",
      "metadata": {
        "id": "KnyYdMVmnkp5"
      },
      "source": [
        "# Loading the dataset"
      ]
    },
    {
      "cell_type": "code",
      "metadata": {
        "id": "PywJeVgDngVd",
        "outputId": "6d9c4ebc-c5a2-4d07-f141-8798395798cb",
        "colab": {
          "base_uri": "https://localhost:8080/"
        }
      },
      "source": [
        "file_path ='/content/drive/MyDrive/dataset/listenings.csv'\n",
        "df_listenings =spark.read.format('csv').option('header',True).option('inferSchema',True).load(file_path)\n",
        "df_listenings\n",
        "df_listenings.show()"
      ],
      "execution_count": 82,
      "outputs": [
        {
          "output_type": "stream",
          "name": "stdout",
          "text": [
            "+-----------+-------------+--------------------+---------------+--------------------+\n",
            "|    user_id|         date|               track|         artist|               album|\n",
            "+-----------+-------------+--------------------+---------------+--------------------+\n",
            "|000Silenced|1299680100000|           Price Tag|       Jessie J|         Who You Are|\n",
            "|000Silenced|1299679920000|Price Tag (Acoust...|       Jessie J|           Price Tag|\n",
            "|000Silenced|1299679440000|Be Mine! (Ballad ...|          Robyn|            Be Mine!|\n",
            "|000Silenced|1299679200000|            Acapella|          Kelis|            Acapella|\n",
            "|000Silenced|1299675660000|   I'm Not Invisible|      The Tease|   I'm Not Invisible|\n",
            "|000Silenced|1297511400000|Bounce (Feat NORE...|       MSTRKRFT|         Fist of God|\n",
            "|000Silenced|1294498440000|Don't Stop The Mu...|        Rihanna|Addicted 2 Bassli...|\n",
            "|000Silenced|1292438340000|               ObZen|      Meshuggah|               ObZen|\n",
            "|000Silenced|1292437740000|   Yama's Messengers|         Gojira|The Way of All Flesh|\n",
            "|000Silenced|1292436360000|On the Brink of E...|   Napalm Death|Time Waits For No...|\n",
            "|000Silenced|1292436360000|On the Brink of E...|   Napalm Death|Time Waits For No...|\n",
            "|000Silenced|1292435940000|        In Deference|   Napalm Death|      Smear Campaign|\n",
            "|000Silenced|1292434920000|      Post(?)organic|    Decapitated|Organic Hallucinosis|\n",
            "|000Silenced|1292434560000|        Mind Feeders|   Dom & Roland| No Strings Attached|\n",
            "|000Silenced|1292434320000|Necrosadistic War...|Cannibal Corpse|                Kill|\n",
            "|000Silenced|1292365560000|     Dance All Night|   Dom & Roland|          Chronology|\n",
            "|000Silenced|1292365260000|          Late Night|   Dom & Roland|          Chronology|\n",
            "|000Silenced|1292365020000|          Freak Seen|   Dom & Roland|          Chronology|\n",
            "|000Silenced|1292364720000|Paradrenasite (Hi...|   Dom & Roland|          Chronology|\n",
            "|000Silenced|1292364300000|               Rhino|   Dom & Roland|          Chronology|\n",
            "+-----------+-------------+--------------------+---------------+--------------------+\n",
            "only showing top 20 rows\n",
            "\n"
          ]
        }
      ]
    },
    {
      "cell_type": "markdown",
      "metadata": {
        "id": "YUHBP0yjoJvc"
      },
      "source": [
        "\n",
        "# Cleaning tables"
      ]
    },
    {
      "cell_type": "code",
      "metadata": {
        "id": "N8luDo3HndTb",
        "outputId": "5d4a613a-3028-4faf-a0c3-c7982bd07973",
        "colab": {
          "base_uri": "https://localhost:8080/"
        }
      },
      "source": [
        "df_listenings = df_listenings.drop('date')\n",
        "df_listenings = df_listenings.na.drop()\n",
        "df_listenings.show()"
      ],
      "execution_count": 83,
      "outputs": [
        {
          "output_type": "stream",
          "name": "stdout",
          "text": [
            "+-----------+--------------------+---------------+--------------------+\n",
            "|    user_id|               track|         artist|               album|\n",
            "+-----------+--------------------+---------------+--------------------+\n",
            "|000Silenced|           Price Tag|       Jessie J|         Who You Are|\n",
            "|000Silenced|Price Tag (Acoust...|       Jessie J|           Price Tag|\n",
            "|000Silenced|Be Mine! (Ballad ...|          Robyn|            Be Mine!|\n",
            "|000Silenced|            Acapella|          Kelis|            Acapella|\n",
            "|000Silenced|   I'm Not Invisible|      The Tease|   I'm Not Invisible|\n",
            "|000Silenced|Bounce (Feat NORE...|       MSTRKRFT|         Fist of God|\n",
            "|000Silenced|Don't Stop The Mu...|        Rihanna|Addicted 2 Bassli...|\n",
            "|000Silenced|               ObZen|      Meshuggah|               ObZen|\n",
            "|000Silenced|   Yama's Messengers|         Gojira|The Way of All Flesh|\n",
            "|000Silenced|On the Brink of E...|   Napalm Death|Time Waits For No...|\n",
            "|000Silenced|On the Brink of E...|   Napalm Death|Time Waits For No...|\n",
            "|000Silenced|        In Deference|   Napalm Death|      Smear Campaign|\n",
            "|000Silenced|      Post(?)organic|    Decapitated|Organic Hallucinosis|\n",
            "|000Silenced|        Mind Feeders|   Dom & Roland| No Strings Attached|\n",
            "|000Silenced|Necrosadistic War...|Cannibal Corpse|                Kill|\n",
            "|000Silenced|     Dance All Night|   Dom & Roland|          Chronology|\n",
            "|000Silenced|          Late Night|   Dom & Roland|          Chronology|\n",
            "|000Silenced|          Freak Seen|   Dom & Roland|          Chronology|\n",
            "|000Silenced|Paradrenasite (Hi...|   Dom & Roland|          Chronology|\n",
            "|000Silenced|               Rhino|   Dom & Roland|          Chronology|\n",
            "+-----------+--------------------+---------------+--------------------+\n",
            "only showing top 20 rows\n",
            "\n"
          ]
        }
      ]
    },
    {
      "cell_type": "code",
      "metadata": {
        "id": "5rDadwmpowII"
      },
      "source": [
        "row_numbers =df_listenings.count()\n",
        "columns_numbers =len(df_listenings.columns)\n"
      ],
      "execution_count": 84,
      "outputs": []
    },
    {
      "cell_type": "code",
      "metadata": {
        "id": "UZr0ZxOVIYr9",
        "outputId": "800d0f08-3410-4772-de8f-c5187440b290",
        "colab": {
          "base_uri": "https://localhost:8080/"
        }
      },
      "source": [
        "print(columns_numbers,row_numbers)"
      ],
      "execution_count": 85,
      "outputs": [
        {
          "output_type": "stream",
          "name": "stdout",
          "text": [
            "4 13758905\n"
          ]
        }
      ]
    },
    {
      "cell_type": "markdown",
      "metadata": {
        "id": "cyf1XITGpMWV"
      },
      "source": [
        "\n",
        "# Let's Perform some aggregation\n",
        "to see how many times each user has listened to specific track\n"
      ]
    },
    {
      "cell_type": "code",
      "metadata": {
        "id": "PeH7vYKEoyWa",
        "outputId": "dd9fad3b-9789-4de5-db91-78a1a5b2aa8d",
        "colab": {
          "base_uri": "https://localhost:8080/"
        }
      },
      "source": [
        "df_listenings_agg = df_listenings.select('user_id','track').groupby('user_id','track').agg(count('*')).alias('count').orderBy('user_id')\n",
        "df_listenings_agg.show()"
      ],
      "execution_count": 86,
      "outputs": [
        {
          "output_type": "stream",
          "name": "stdout",
          "text": [
            "+-------+--------------------+--------+\n",
            "|user_id|               track|count(1)|\n",
            "+-------+--------------------+--------+\n",
            "| --Seph| White Winter Hymnal|       3|\n",
            "| --Seph|         The Funeral|       1|\n",
            "| --Seph|Hope There's Someone|       1|\n",
            "| --Seph|         The Painter|       1|\n",
            "| --Seph|          Je te veux|       1|\n",
            "| --Seph|            War Pigs|       1|\n",
            "| --Seph|                 F12|       1|\n",
            "| --Seph|                Team|       1|\n",
            "| --Seph|          Nightmares|       1|\n",
            "| --Seph|               Radio|       1|\n",
            "| --Seph|   All I Want Is You|       1|\n",
            "| --Seph|    Little by Little|       2|\n",
            "| --Seph|        After Nature|       1|\n",
            "| --Seph|In the Hall of th...|       1|\n",
            "| --Seph|   Hey There Delilah|       1|\n",
            "| --Seph|   Let's Call It Off|       1|\n",
            "| --Seph|               Leloo|       1|\n",
            "| --Seph|             Pack Up|       1|\n",
            "| --Seph|           Introitus|       1|\n",
            "| --Seph|        The Leanover|       1|\n",
            "+-------+--------------------+--------+\n",
            "only showing top 20 rows\n",
            "\n"
          ]
        }
      ]
    },
    {
      "cell_type": "code",
      "metadata": {
        "id": "RhVz-SvapIyr",
        "outputId": "34a8e9e2-6f49-4c04-f4ed-8d648b115896",
        "colab": {
          "base_uri": "https://localhost:8080/"
        }
      },
      "source": [
        "row_numbers = df_listenings_agg.count()\n",
        "columns_numbers = len(df_listenings_agg.columns)\n",
        "print(row_numbers,columns_numbers)"
      ],
      "execution_count": 87,
      "outputs": [
        {
          "output_type": "stream",
          "name": "stdout",
          "text": [
            "9930128 3\n"
          ]
        }
      ]
    },
    {
      "cell_type": "code",
      "metadata": {
        "id": "KsTXVsO7I7Jw"
      },
      "source": [
        "df_listenings_agg = df_listenings_agg.limit(20000)"
      ],
      "execution_count": 88,
      "outputs": []
    },
    {
      "cell_type": "markdown",
      "metadata": {
        "id": "vuebvg7UqzsO"
      },
      "source": [
        "# Let's convert the user id and track columns into unique integers\n",
        "\n",
        "\n"
      ]
    },
    {
      "cell_type": "code",
      "metadata": {
        "id": "F9RSpj3DN6aX"
      },
      "source": [
        "indexer = [StringIndexer(inputCol=col, outputCol=col+'_index', handleInvalid='keep').fit(df_listenings_agg) for col in list(set(df_listenings_agg.columns) - set(['count']))]\n"
      ],
      "execution_count": 89,
      "outputs": []
    },
    {
      "cell_type": "code",
      "metadata": {
        "id": "efL-hiR-q-AO",
        "outputId": "338628a3-5907-4e4b-e45e-ec65277196a4",
        "colab": {
          "base_uri": "https://localhost:8080/"
        }
      },
      "source": [
        "pipeline = Pipeline(stages=indexer)\n",
        "data = pipeline.fit(df_listenings_agg).transform(df_listenings_agg)\n",
        "data.show()"
      ],
      "execution_count": 90,
      "outputs": [
        {
          "output_type": "stream",
          "name": "stdout",
          "text": [
            "+-------+--------------------+--------+--------------+-------------+-----------+\n",
            "|user_id|               track|count(1)|count(1)_index|user_id_index|track_index|\n",
            "+-------+--------------------+--------+--------------+-------------+-----------+\n",
            "| --Seph|          Nightmares|       1|           0.0|         69.0|    10600.0|\n",
            "| --Seph|Virus (Luke Fair ...|       1|           0.0|         69.0|    15893.0|\n",
            "| --Seph|Airplanes [feat H...|       1|           0.0|         69.0|      521.0|\n",
            "| --Seph|Belina (Original ...|       1|           0.0|         69.0|     3280.0|\n",
            "| --Seph|              Monday|       1|           0.0|         69.0|      334.0|\n",
            "| --Seph|Hungarian Dance No 5|       1|           0.0|         69.0|     7555.0|\n",
            "| --Seph|       Life On Mars?|       1|           0.0|         69.0|     1164.0|\n",
            "| --Seph|  California Waiting|       1|           0.0|         69.0|      195.0|\n",
            "| --Seph|       Phantom Pt II|       1|           0.0|         69.0|     1378.0|\n",
            "| --Seph|   Summa for Strings|       1|           0.0|         69.0|    13737.0|\n",
            "| --Seph|      Hour for magic|       2|           1.0|         69.0|     7492.0|\n",
            "| --Seph|Hungarian Rhapsod...|       1|           0.0|         69.0|     7556.0|\n",
            "| --Seph|     The Way We Were|       1|           0.0|         69.0|    14958.0|\n",
            "| --Seph| Air on the G String|       1|           0.0|         69.0|     2456.0|\n",
            "| --Seph|Vestido Estampado...|       1|           0.0|         69.0|    15847.0|\n",
            "| --Seph|        Window Blues|       1|           0.0|         69.0|     1841.0|\n",
            "| --Seph| White Winter Hymnal|       3|           2.0|         69.0|       59.0|\n",
            "| --Seph|         The Embrace|       1|           0.0|         69.0|    14386.0|\n",
            "| --Seph|          Paris 2004|       7|           7.0|         69.0|    11311.0|\n",
            "| --Seph|Chelsea Hotel - L...|       1|           0.0|         69.0|     4183.0|\n",
            "+-------+--------------------+--------+--------------+-------------+-----------+\n",
            "only showing top 20 rows\n",
            "\n"
          ]
        }
      ]
    },
    {
      "cell_type": "code",
      "metadata": {
        "id": "OfKtj2ojrKae"
      },
      "source": [
        "data = data.select('user_id_index' , 'track_index', 'count(1)').orderBy('user_id_index')\n"
      ],
      "execution_count": 91,
      "outputs": []
    },
    {
      "cell_type": "markdown",
      "metadata": {
        "id": "IEwviAxXsHwN"
      },
      "source": [
        "# Train and Test data"
      ]
    },
    {
      "cell_type": "code",
      "metadata": {
        "id": "DRgu2p-PsYUw"
      },
      "source": [
        "(training , test) =data.randomSplit([0.5,0.5])"
      ],
      "execution_count": 92,
      "outputs": []
    },
    {
      "cell_type": "markdown",
      "metadata": {
        "id": "M46wV6Gusdi5"
      },
      "source": [
        "# Let's Create our Model"
      ]
    },
    {
      "cell_type": "code",
      "metadata": {
        "id": "bwPk25M3sfRu"
      },
      "source": [
        "USERID ='user_id_index'\n",
        "TRACK ='track_index'\n",
        "COUNT ='count(1)'\n",
        "\n",
        "als = ALS(maxIter=5, regParam=0.01, userCol=USERID, itemCol=TRACK, ratingCol=COUNT)\n",
        "model = als.fit(training)\n",
        "predictions = model.transform(test)\n"
      ],
      "execution_count": 93,
      "outputs": []
    },
    {
      "cell_type": "markdown",
      "metadata": {
        "id": "lqBkLowzsoj8"
      },
      "source": [
        "\n",
        "# Generate top 10 Track recommendations for each user"
      ]
    },
    {
      "cell_type": "code",
      "metadata": {
        "id": "00mtv7XUsZGg"
      },
      "source": [
        "recs = model.recommendForAllUsers(10)"
      ],
      "execution_count": 94,
      "outputs": []
    },
    {
      "cell_type": "code",
      "metadata": {
        "id": "_EQnSUh3ncar",
        "outputId": "9b932983-5f3c-41f1-dfa1-98342776cfcf",
        "colab": {
          "base_uri": "https://localhost:8080/"
        }
      },
      "source": [
        "recs.show()"
      ],
      "execution_count": 95,
      "outputs": [
        {
          "output_type": "stream",
          "name": "stdout",
          "text": [
            "+-------------+--------------------+\n",
            "|user_id_index|     recommendations|\n",
            "+-------------+--------------------+\n",
            "|            0|[{16908, 15.18897...|\n",
            "|            1|[{4460, 19.753273...|\n",
            "|            2|[{4460, 32.794292...|\n",
            "|            3|[{16908, 12.90741...|\n",
            "|            4|[{304, 13.077294}...|\n",
            "|            5|[{13561, 6.854038...|\n",
            "|            6|[{4460, 14.372103...|\n",
            "|            7|[{304, 9.573789},...|\n",
            "|            8|[{957, 3.7499871}...|\n",
            "|            9|[{2474, 4.962798}...|\n",
            "|           10|[{4460, 32.386124...|\n",
            "|           11|[{4460, 13.843725...|\n",
            "|           12|[{4460, 26.586012...|\n",
            "|           13|[{16908, 9.100163...|\n",
            "|           14|[{16908, 19.69618...|\n",
            "|           15|[{13561, 9.109789...|\n",
            "|           16|[{175, 6.343837},...|\n",
            "|           17|[{13561, 7.888008...|\n",
            "|           18|[{4460, 22.538296...|\n",
            "|           19|[{233, 8.825232},...|\n",
            "+-------------+--------------------+\n",
            "only showing top 20 rows\n",
            "\n"
          ]
        }
      ]
    },
    {
      "cell_type": "code",
      "metadata": {
        "id": "stUaAoKpTgqT",
        "outputId": "85a12120-489f-4cd3-c32c-9b67ad913b1e",
        "colab": {
          "base_uri": "https://localhost:8080/"
        }
      },
      "source": [
        "recs.take(1)"
      ],
      "execution_count": 96,
      "outputs": [
        {
          "output_type": "execute_result",
          "data": {
            "text/plain": [
              "[Row(user_id_index=0, recommendations=[Row(track_index=16908, rating=15.188973426818848), Row(track_index=128, rating=7.910904884338379), Row(track_index=1689, rating=7.069347858428955), Row(track_index=13583, rating=4.979283809661865), Row(track_index=5041, rating=4.979283809661865), Row(track_index=478, rating=4.882370471954346), Row(track_index=8389, rating=4.517340183258057), Row(track_index=406, rating=4.439211368560791), Row(track_index=15476, rating=4.231089115142822), Row(track_index=14052, rating=4.106672763824463)])]"
            ]
          },
          "metadata": {},
          "execution_count": 96
        }
      ]
    }
  ]
}